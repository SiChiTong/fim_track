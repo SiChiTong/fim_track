{
 "cells": [
  {
   "cell_type": "code",
   "execution_count": 1,
   "metadata": {},
   "outputs": [],
   "source": [
    "import numpy as np\n",
    "from dLdp import analytic_dLdp,dLdp\n",
    "from matplotlib import pyplot as plt\n",
    "from matplotlib import style\n",
    "from functools import partial"
   ]
  },
  {
   "cell_type": "code",
   "execution_count": 2,
   "metadata": {},
   "outputs": [],
   "source": [
    "def plot_trajectories(q_traj,p_trajs,n_p):\n",
    "    style.use('fivethirtyeight')\n",
    "    p_trajs=p_trajs.reshape(-1,n_p,2)\n",
    "    plt.plot(q_traj[0,:],q_traj[1,:],'*',label=\"Target\")\n",
    "    for i in range(n_p):\n",
    "        plt.plot(p_trajs[:,i,0],p_trajs[:,i,1],'.',label=\"Mobile Sensor {}\".format(i))\n",
    "    plt.legend()\n",
    "    plt.show()\n"
   ]
  },
  {
   "cell_type": "code",
   "execution_count": 3,
   "metadata": {},
   "outputs": [],
   "source": [
    "sigma=1.\n",
    "C0s=np.array([0.,0.,0.])\n",
    "C1s=np.array([0.1,0.1,0.1])\n",
    "ks=np.array([1.5,0.5,1.])\n",
    "bs=np.array([-2,-2,-2])\n",
    "\n",
    "q=np.array([0.,0.])\n",
    "ps=np.array([[1.,0],[0,1.],[-1,0.0]])\n"
   ]
  },
  {
   "cell_type": "code",
   "execution_count": 4,
   "metadata": {},
   "outputs": [],
   "source": [
    "q_traj=q[...,np.newaxis]\n",
    "p_trajs=ps[...,np.newaxis]"
   ]
  },
  {
   "cell_type": "markdown",
   "metadata": {},
   "source": [
    "# Path Planning with constant step size. That is $||\\alpha_i \\nabla_{p_i}L||=constant$"
   ]
  },
  {
   "cell_type": "markdown",
   "metadata": {},
   "source": [
    "# With n_timestep <=100, the path planing is very fast."
   ]
  },
  {
   "cell_type": "code",
   "execution_count": 5,
   "metadata": {},
   "outputs": [],
   "source": [
    "from regions import Rect2D\n",
    "def polar_projection(q,ps,r):    \n",
    "    \"\"\" \n",
    "        Return the projection of a set of points ps onto a circle centered at q with radius r\n",
    "    \"\"\"\n",
    "    q=q.reshape(-1,2)\n",
    "    ps=ps.reshape(-1,2)\n",
    "    dists=np.linalg.norm(ps-q,axis=1)\n",
    "\n",
    "    dists[dists==0]=1 # Handling the zero distances\n",
    "    ps_proj=((ps-q).T/dists * r).T +q\n",
    "    return ps_proj\n",
    "\n",
    "def FIM_ascent_path_planning(f_dLdp,q,ps,n_p,n_timesteps,max_linear_speed,dt,epsilon,region=None):\n",
    "    \"\"\"\n",
    "        f_dLdp: a function handle, f_dLdp(q,ps)=dLdp.\n",
    "        q: Current location of the target.\n",
    "        ps: Current locations of the mobile sensors.\n",
    "        n_p: The number of sensors\n",
    "        n_timesteps: The number of timesteps to plan ahead. \n",
    "        \n",
    "            The total time horizon T will be T=n_timesteps*dt.\n",
    "        \n",
    "        max_linear_speed: the linear speed limit to be set on the mobile sensors.\n",
    "        dt: the time differences between two consecutive waypoints.\n",
    "        \n",
    "            The update step size will be a constant = max_linear_speed * dt\n",
    "        \n",
    "        epsilon: when the planned trajectories end, how far away should they be to the target.\n",
    "        region: If None, unconstraint gradient ascent is performed. Otherwise, region should be\n",
    "        of class Region as defined in regions.py file in fim_track package, and projected gradient \n",
    "        ascent onto the given region will be performed.\n",
    "        ----------------------------------------------------------------------------------------\n",
    "        Output: waypoints for each mobile sensor, Shape= (num_time_steps,num_sensors,2)\n",
    "    \"\"\"\n",
    "\n",
    "    step_size=max_linear_speed*dt\n",
    "    p_trajs=[]\n",
    "    \n",
    "    q=q.reshape(-1,2)\n",
    "    ps=ps.reshape(-1,2)\n",
    "    \n",
    "    for i in range(n_timesteps):\n",
    "        # Calculate the gradient\n",
    "        grad=f_dLdp(q,ps)\n",
    "        grad=grad.reshape(-1,2)\n",
    "        grad_sizes=np.linalg.norm(grad,axis=1)\n",
    "        # print(ps,q)\n",
    "        # print(\"grad_sizes\",grad_sizes)\n",
    "\n",
    "        grad_sizes[grad_sizes==0]=1 # Handle the case where the partial derivative is zero.\n",
    "\n",
    "        update_steps=(grad.T/grad_sizes * step_size).T # Calculate the update steps to be applied to ps\n",
    "# \n",
    "        candid_ps=ps+update_steps # Calculate the direct update \n",
    "        \n",
    "        if not region is None:\n",
    "            for i in range(len(ps)):\n",
    "                proj=region.project_point(candid_ps[i,:])\n",
    "                if not proj is None:\n",
    "                    candid_ps[i,:]=proj\n",
    "                    \n",
    "        # Project candid_ps onto the \"surveillance circle\" once it steps into it\n",
    "        if not np.all(np.linalg.norm(candid_ps-q,axis=1)>=epsilon):\n",
    "            insiders=np.linalg.norm(candid_ps-q,axis=1)<epsilon\n",
    "            ps=candid_ps\n",
    "            ps[insiders]=polar_projection(q,candid_ps,epsilon)[insiders] # Update ps.\n",
    "            p_trajs.append(ps)\n",
    "            break # Exit the loop once some mobile sensor's trajectory reaches the circle.\n",
    "        else:\n",
    "            ps=candid_ps # Update ps.\n",
    "            p_trajs.append(ps)\n",
    "    return np.array(p_trajs).reshape(-1,n_p,2) # Shape= (num_time_steps,num_sensors,2)"
   ]
  },
  {
   "cell_type": "code",
   "execution_count": 8,
   "metadata": {},
   "outputs": [],
   "source": [
    "from functools import partial\n",
    "region = Rect2D((0,4),(0,4))\n",
    "max_linear_speed=1.22\n",
    "dt=0.1\n",
    "epsilon=0.1\n",
    "sigma=1.\n",
    "C0s=np.array([0.,0.,0.])\n",
    "C1s=np.array([0.1,0.1,0.1])\n",
    "ks=np.array([1.5,0.5,1.])\n",
    "bs=np.array([-2.,-2.,-2.])\n",
    "\n",
    "q=np.array([5.,5.])\n",
    "ps=np.array([[1.,0],[0,1.],[-1,0.0]])\n",
    "n_p=len(ps)\n",
    "n_timesteps=100\n",
    "\n",
    "# f_dLdp=partial(analytic_dLdp,sigma=sigma,C1s=C1s,C0s=C0s,ks=ks,bs=bs)\n",
    "\n",
    "f_dLdp=dLdp(C1s=C1s,C0s=C0s,ks=ks,bs=bs)"
   ]
  },
  {
   "cell_type": "markdown",
   "metadata": {},
   "source": [
    "# Unconstraint Gradient Ascent"
   ]
  },
  {
   "cell_type": "code",
   "execution_count": 10,
   "metadata": {},
   "outputs": [
    {
     "data": {
      "image/png": "[encoded data removed]",
      "text/plain": [
       "<Figure size 432x288 with 1 Axes>"
      ]
     },
     "metadata": {},
     "output_type": "display_data"
    }
   ],
   "source": [
    "\n",
    "p_trajs=FIM_ascent_path_planning(f_dLdp,q,ps,n_p,n_timesteps,max_linear_speed,dt,epsilon,region=None)\n",
    "\n",
    "q_traj=q[...,np.newaxis]\n",
    "\n",
    "plot_trajectories(q_traj,p_trajs,n_p)"
   ]
  },
  {
   "cell_type": "markdown",
   "metadata": {},
   "source": [
    "# Projected Gradient Ascent onto Rect2D((0,4),(0,4))"
   ]
  },
  {
   "cell_type": "code",
   "execution_count": 9,
   "metadata": {},
   "outputs": [
    {
     "data": {
      "image/png": "[encoded data removed]",
      "text/plain": [
       "<Figure size 432x288 with 1 Axes>"
      ]
     },
     "metadata": {},
     "output_type": "display_data"
    }
   ],
   "source": [
    "\n",
    "p_trajs=FIM_ascent_path_planning(f_dLdp,q,ps,n_p,n_timesteps,max_linear_speed,dt,epsilon,region=region)\n",
    "\n",
    "q_traj=q[...,np.newaxis]\n",
    "\n",
    "plot_trajectories(q_traj,p_trajs,n_p)"
   ]
  }
 ],
 "metadata": {
  "kernelspec": {
   "display_name": "Python 3",
   "language": "python",
   "name": "python3"
  },
  "language_info": {
   "codemirror_mode": {
    "name": "ipython",
    "version": 3
   },
   "file_extension": ".py",
   "mimetype": "text/x-python",
   "name": "python",
   "nbconvert_exporter": "python",
   "pygments_lexer": "ipython3",
   "version": "3.8.1"
  }
 },
 "nbformat": 4,
 "nbformat_minor": 4
}
