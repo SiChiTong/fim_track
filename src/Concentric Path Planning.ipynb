{
 "cells": [
  {
   "cell_type": "code",
   "execution_count": 1,
   "metadata": {},
   "outputs": [],
   "source": [
    "import numpy as np\n",
    "from matplotlib import pyplot as plt\n",
    "\n",
    "%load_ext autoreload\n",
    "%autoreload 2"
   ]
  },
  {
   "cell_type": "code",
   "execution_count": 4,
   "metadata": {},
   "outputs": [
    {
     "data": {
      "text/plain": [
       "array([[[ 1.       ,  0.       ],\n",
       "        [ 2.       ,  0.       ],\n",
       "        [ 3.       ,  0.       ]],\n",
       "\n",
       "       [[ 3.       ,  0.       ],\n",
       "        [ 1.5      ,  0.8660254],\n",
       "        [ 1.5      , -0.8660254]]])"
      ]
     },
     "execution_count": 4,
     "metadata": {},
     "output_type": "execute_result"
    }
   ],
   "source": [
    "\n",
    "R=1\n",
    "ps=np.array([[1,0],[2,0],[3,0]])\n",
    "n_p = len(ps)\n",
    "max_speed=0.22\n",
    "dt = 1\n",
    "n_steps = 300\n",
    "p_trajs=[]\n",
    "\n",
    "step_size = max_speed*dt\n",
    "ps=ps.reshape(-1,2)\n",
    "\n",
    "origin= np.mean(ps,axis = 0)\n",
    "\n",
    "phi = 2*np.pi/n_p\n",
    "destinations = origin + R * np.array([[np.cos(phi*j),np.sin(phi*j)] for j in range(n_p)])\n",
    "np.array([ps,destinations])"
   ]
  },
  {
   "cell_type": "code",
   "execution_count": 10,
   "metadata": {},
   "outputs": [],
   "source": [
    "step_size = max_speed*dt\n",
    "ps=ps.reshape(-1,2)\n",
    "\n",
    "phi = 2*np.pi/n_p\n",
    "\n",
    "CoM = np.mean(ps,axis = 0)\n",
    "\n",
    "destinations = CoM + R * np.array([[np.cos(phi*j),np.sin(phi*j)] for j in range(n_p)])\n",
    "\n",
    "# reached = np.all(np.linalg.norm(destinations-ps,axis=1)<epsilon)\n",
    "\n",
    "dists = np.repeat(step_size* np.arange(n_steps+1),n_p).reshape(-1,n_p)\n",
    "max_dists = np.linalg.norm(destinations-ps,axis=1)\n",
    "for i in range(n_p):\n",
    "    dists[:,i][dists[:,i]>max_dists[i]]=max_dists[i]\n",
    "\n",
    "directions = np.expand_dims((((destinations-CoM).T/np.linalg.norm(destinations-ps,axis=1)).T),axis=2)\n",
    "\n",
    "directions = np.transpose(directions,(2,0,1))\n",
    "\n",
    "directions = np.repeat(directions,len(dists),axis=0)\n",
    "\n",
    "waypoints = directions*dists[:,:,np.newaxis] + CoM"
   ]
  },
  {
   "cell_type": "code",
   "execution_count": 17,
   "metadata": {},
   "outputs": [
    {
     "data": {
      "text/plain": [
       "False"
      ]
     },
     "execution_count": 17,
     "metadata": {},
     "output_type": "execute_result"
    }
   ],
   "source": [
    "np.all(np.linalg.norm(ps-CoM,axis=1)>R)"
   ]
  },
  {
   "cell_type": "code",
   "execution_count": 12,
   "metadata": {},
   "outputs": [
    {
     "data": {
      "image/png": "[encoded data removed]",
      "text/plain": [
       "<Figure size 432x288 with 1 Axes>"
      ]
     },
     "metadata": {
      "needs_background": "light"
     },
     "output_type": "display_data"
    }
   ],
   "source": [
    "for i in range(n_p):\n",
    "    plt.plot(waypoints[:,i,0],waypoints[:,i,1],'.')"
   ]
  }
 ],
 "metadata": {
  "kernelspec": {
   "display_name": "Python 3",
   "language": "python",
   "name": "python3"
  },
  "language_info": {
   "codemirror_mode": {
    "name": "ipython",
    "version": 3
   },
   "file_extension": ".py",
   "mimetype": "text/x-python",
   "name": "python",
   "nbconvert_exporter": "python",
   "pygments_lexer": "ipython3",
   "version": "3.8.1"
  }
 },
 "nbformat": 4,
 "nbformat_minor": 4
}
