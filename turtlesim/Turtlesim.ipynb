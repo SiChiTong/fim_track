{
 "cells": [
  {
   "cell_type": "code",
   "execution_count": 1,
   "metadata": {},
   "outputs": [],
   "source": [
    "import numpy as np\n",
    "import matplotlib.pyplot as plt\n",
    "from matplotlib import style\n",
    "from matplotlib.animation import FuncAnimation\n",
    "from geometry_msgs.msg import Pose, Twist\n",
    "import rospy\n",
    "from geometry_msgs.msg import Twist\n",
    "from turtlesim.msg import Pose\n",
    "from math import pow, atan2, sqrt\n"
   ]
  },
  {
   "cell_type": "markdown",
   "metadata": {},
   "source": [
    "# Tank-drive dynamics model\n",
    "\n",
    "\\begin{equation}\n",
    "u=[v\\ \\omega]'\\\\\n",
    "z=[x\\ y\\ \\theta]'\\\\\n",
    "|v|\\leq v_{max}, |\\omega|\\leq \\omega_{max}\n",
    "\\end{equation}\n",
    "\n",
    "$\\theta$ increases counter-clockwise.\n",
    "\n",
    "\\begin{equation}\n",
    "\\dot{z}=[v\\cos{\\theta}\\ v\\sin{\\theta}\\ \\omega]'=[u_1\\cos{z_3} \\ u_1\\sin{z_3} \\ u_2]'\\ (0)\n",
    "\\end{equation}\n",
    "\n",
    "We anticipate the equation (0) is used by turtlesim and Gazebo Turtlebot3 to implement tank-drive update.\n",
    "\n",
    "Furthermore, we anticipate the exact update formula used by the two simulation package above to be something similar to the formula below: \n",
    "\n",
    "for small $\\Delta t$\n",
    "\\begin{equation}\n",
    "z(t+\\Delta t) \\approx z(t)+ [v\\cos{\\theta}\\Delta t\\ v\\sin{\\theta}\\Delta t\\ \\omega\\Delta t]'=z(t)+ [u_1(t)\\cos{z_3(t)} \\ u_1(t)\\sin{z_3(t)} \\ u_2(t)]' \\Delta t\\ \\ \\ \\ \\ (1)\n",
    "\\end{equation}"
   ]
  },
  {
   "cell_type": "markdown",
   "metadata": {},
   "source": [
    "# Construct Controllers for turtlesim simulator"
   ]
  },
  {
   "cell_type": "markdown",
   "metadata": {},
   "source": [
    "The following code is adopted and modified from http://wiki.ros.org/turtlesim/Tutorials/Go%20to%20Goal"
   ]
  },
  {
   "cell_type": "code",
   "execution_count": 22,
   "metadata": {},
   "outputs": [],
   "source": [
    "# The default turtlebot speed is SUUUUPER slow.\n",
    "# BURGER_MAX_LIN_VEL = 0.22\n",
    "# BURGER_MAX_ANG_VEL = 2.84\n",
    "\n",
    "BURGER_MAX_LIN_VEL = 0.22*10\n",
    "BURGER_MAX_ANG_VEL = 2.84*10\n",
    "turtlebot3_model='burger'\n",
    "\n",
    "def constrain(input, low, high):\n",
    "        if input < low:\n",
    "          input = low\n",
    "        elif input > high:\n",
    "          input = high\n",
    "        else:\n",
    "          input = input\n",
    "        return input\n",
    "\n",
    "class TurtleBot:\n",
    "\n",
    "    def __init__(self):\n",
    "        # Creates a node with name 'turtlebot_controller' and make sure it is a\n",
    "        # unique node (using anonymous=True).\n",
    "        rospy.init_node('turtlebot_controller', anonymous=True)\n",
    "\n",
    "        # Publisher which will publish to the topic '/turtle1/cmd_vel'.\n",
    "        self.velocity_publisher = rospy.Publisher('/turtle1/cmd_vel',\n",
    "                                                  Twist, queue_size=10)\n",
    "\n",
    "        # A subscriber to the topic '/turtle1/pose'. self.update_pose is called\n",
    "        # when a message of type Pose is received.\n",
    "        self.pose_subscriber = rospy.Subscriber('/turtle1/pose',\n",
    "                                                Pose, self.update_pose)\n",
    "\n",
    "        self.pose = None\n",
    "        self.rate = rospy.Rate(10)\n",
    "        \n",
    "\n",
    "    def update_pose(self, data):\n",
    "        \"\"\"Callback function which is called when a new message of type Pose is\n",
    "        received by the subscriber.\"\"\"\n",
    "        self.pose = data\n",
    "        self.pose.x = round(self.pose.x, 4)\n",
    "        self.pose.y = round(self.pose.y, 4)\n",
    "\n",
    "    def euclidean_distance(self, goal_pose):\n",
    "        if self.pose is None:\n",
    "            return np.inf\n",
    "        \"\"\"Euclidean distance between current pose and the goal.\"\"\"\n",
    "        return sqrt(pow((goal_pose.x - self.pose.x), 2) +\n",
    "                    pow((goal_pose.y - self.pose.y), 2))\n",
    "    def legal_linear_vel(self, v):\n",
    "        if turtlebot3_model == \"burger\":\n",
    "          v = constrain(v, -BURGER_MAX_LIN_VEL, BURGER_MAX_LIN_VEL)\n",
    "        elif turtlebot3_model == \"waffle\" or turtlebot3_model == \"waffle_pi\":\n",
    "          v = constrain(v, -WAFFLE_MAX_LIN_VEL, WAFFLE_MAX_LIN_VEL)\n",
    "        else:\n",
    "          v = constrain(v, -BURGER_MAX_LIN_VEL, BURGER_MAX_LIN_VEL)\n",
    "        return v\n",
    "    def legal_angular_vel(self, w):\n",
    "        if turtlebot3_model == \"burger\":\n",
    "          w = constrain(w, -BURGER_MAX_ANG_VEL, BURGER_MAX_ANG_VEL)\n",
    "        elif turtlebot3_model == \"waffle\" or turtlebot3_model == \"waffle_pi\":\n",
    "          w = constrain(w, -WAFFLE_MAX_ANG_VEL, WAFFLE_MAX_ANG_VEL)\n",
    "        else:\n",
    "          w = constrain(w, -BURGER_MAX_ANG_VEL, BURGER_MAX_ANG_VEL)\n",
    "        return w\n",
    "    \n",
    "    def linear_vel(self, goal_pose, constant=1.5):\n",
    "        \"\"\"See video: https://www.youtube.com/watch?v=Qh15Nol5htM.\"\"\"\n",
    "        return constant * self.euclidean_distance(goal_pose)\n",
    "\n",
    "    def steering_angle(self, goal_pose):\n",
    "        \"\"\"See video: https://www.youtube.com/watch?v=Qh15Nol5htM.\"\"\"\n",
    "        return atan2(goal_pose.y - self.pose.y, goal_pose.x - self.pose.x)\n",
    "\n",
    "    def angular_vel(self, goal_pose, constant=6):\n",
    "        \"\"\"See video: https://www.youtube.com/watch?v=Qh15Nol5htM.\"\"\"\n",
    "        return constant * (self.steering_angle(goal_pose) - self.pose.theta)\n",
    "    \n",
    "    def P_Controller(self,goal_pose):\n",
    "        vel_msg=Twist()\n",
    "        # Linear velocity in the x-axis.\n",
    "        vel_msg.linear.x = self.linear_vel(goal_pose)\n",
    "        vel_msg.linear.y = 0\n",
    "        vel_msg.linear.z = 0\n",
    "\n",
    "        # Angular velocity in the z-axis.\n",
    "        vel_msg.angular.x = 0\n",
    "        vel_msg.angular.y = 0\n",
    "        vel_msg.angular.z = self.angular_vel(goal_pose)\n",
    "        return vel_msg\n",
    "    \n",
    "    def move2goal(self,goal_x=0,goal_y=0,goal_theta=0,distance_tolerance=0.03,manual_input=False):\n",
    "        \"\"\"Moves the turtle to the goal.\"\"\"\n",
    "        goal_pose = Pose()\n",
    "        \n",
    "        if manual_input:\n",
    "            # Get the input from the user.\n",
    "            goal_pose.x = float(input(\"Set your x goal: \"))\n",
    "            goal_pose.y = float(input(\"Set your y goal: \"))\n",
    "\n",
    "            # Please, insert a number slightly greater than 0 (e.g. 0.01).\n",
    "            distance_tolerance = float(input(\"Set your tolerance: \"))\n",
    "        else:\n",
    "            goal_pose.x=goal_x\n",
    "            goal_pose.y=goal_y\n",
    "            goal_pose.theta=goal_theta\n",
    "            distance_tolerance=distance_tolerance\n",
    "\n",
    "        while self.euclidean_distance(goal_pose) >= distance_tolerance:\n",
    "            if self.pose is None:\n",
    "                continue # Skip this iterative until the first pose is received.\n",
    "            \n",
    "            # Porportional controller.\n",
    "            # https://en.wikipedia.org/wiki/Proportional_control\n",
    "            vel_msg=self.P_Controller(goal_pose)\n",
    "            \n",
    "            # Proportional controller with maximum speed constraint.\n",
    "            vel_msg.linear.x=self.legal_linear_vel(vel_msg.linear.x)\n",
    "            vel_msg.angular.z=self.legal_angular_vel(vel_msg.angular.z)\n",
    "\n",
    "            # Publishing our vel_msg\n",
    "            self.velocity_publisher.publish(vel_msg)\n",
    "\n",
    "            # Publish at the desired rate.\n",
    "            self.rate.sleep()\n",
    "\n",
    "        # Stopping our robot after the movement is over.\n",
    "        vel_msg.linear.x = 0\n",
    "        vel_msg.angular.z = 0\n",
    "        self.velocity_publisher.publish(vel_msg)\n",
    "        print('The target location is reached.')"
   ]
  },
  {
   "cell_type": "markdown",
   "metadata": {},
   "source": [
    "Now, please open separate bash windows and run the following command to bringup the turtlesim environment first.\n",
    "```\n",
    "$ roscore\n",
    "$ rosrun turtlesim turtlesim_node\n",
    "```\n",
    "After running the commands above, you may run the following block to control the turtle in the turtlesim environment."
   ]
  },
  {
   "cell_type": "code",
   "execution_count": 28,
   "metadata": {
    "scrolled": true
   },
   "outputs": [
    {
     "name": "stdout",
     "output_type": "stream",
     "text": [
      "The target location is reached.\n",
      "The target location is reached.\n"
     ]
    }
   ],
   "source": [
    "# Set the goal position as you pleased.\n",
    "x = TurtleBot()\n",
    "x.move2goal(goal_x=2,goal_y=3)\n",
    "x.move2goal(goal_x=0,goal_y=0)"
   ]
  },
  {
   "cell_type": "markdown",
   "metadata": {},
   "source": [
    "# What do we want the utility class above for?\n",
    "\n",
    "* Implement an LQR algorithm that is guarantted to be stable, and can track a path/avoid obstacles rather than simply going to a target location.\n",
    "* Implement a piecewis"
   ]
  }
 ],
 "metadata": {
  "kernelspec": {
   "display_name": "Python 3",
   "language": "python",
   "name": "python3"
  },
  "language_info": {
   "codemirror_mode": {
    "name": "ipython",
    "version": 3
   },
   "file_extension": ".py",
   "mimetype": "text/x-python",
   "name": "python",
   "nbconvert_exporter": "python",
   "pygments_lexer": "ipython3",
   "version": "3.8.1"
  }
 },
 "nbformat": 4,
 "nbformat_minor": 2
}
